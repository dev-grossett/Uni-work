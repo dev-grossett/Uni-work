{
 "cells": [
  {
   "cell_type": "code",
   "execution_count": 23,
   "metadata": {},
   "outputs": [
    {
     "data": {
      "image/png": "[encoded data removed]",
      "text/plain": [
       "<Figure size 432x288 with 2 Axes>"
      ]
     },
     "metadata": {
      "needs_background": "light"
     },
     "output_type": "display_data"
    },
    {
     "name": "stdout",
     "output_type": "stream",
     "text": [
      "[[-0.00000000e+00  0.00000000e+00  0.00000000e+00 ...  0.00000000e+00\n",
      "   0.00000000e+00  0.00000000e+00]\n",
      " [-1.91158629e-01  9.17971351e-01  9.02895356e-01 ...  1.85075737e-01\n",
      "   9.52232881e-01  0.00000000e+00]\n",
      " [-3.75267005e-01  2.58677684e-01  4.32250901e-01 ...  9.94456027e-01\n",
      "   4.43689624e-01  0.00000000e+00]\n",
      " ...\n",
      " [-1.91158629e-01  5.14212016e-01  6.51200299e-01 ...  4.89061943e-01\n",
      "   1.31219164e-01  0.00000000e+00]\n",
      " [-3.67394040e-16  7.26796848e-02  2.65321869e-01 ...  4.58799332e-01\n",
      "   2.15456460e-01  0.00000000e+00]\n",
      " [ 0.00000000e+00  0.00000000e+00  0.00000000e+00 ...  0.00000000e+00\n",
      "   0.00000000e+00  0.00000000e+00]]\n"
     ]
    }
   ],
   "source": [
    "import numpy as np\n",
    "import matplotlib.pyplot as plt\n",
    "import matplotlib.cm as cm\n",
    "\n",
    "# create an xy grid of points\n",
    "Nx = 20\n",
    "Ny = 50\n",
    "\n",
    "xv = np.linspace(0, 50, Nx)\n",
    "yv = np.linspace(0, 10, Ny)\n",
    "\n",
    "x, y = np.meshgrid(xv, yv)\n",
    "\n",
    "# initialise our matrix of potential V with random values\n",
    "# note: we add one row and one column to apply the boundary conditions\n",
    "# which makes it easier to iterate only within the region of interest\n",
    "V = np.random.rand(Ny+1, Nx+1)\n",
    "\n",
    "# set our boundary conditions\n",
    "V[0,:] = 0.0\n",
    "V[Ny,:] = 0.0\n",
    "\n",
    "\n",
    "Vmax = -1.0\n",
    "V[:-1,0] = Vmax*np.sin(3*np.pi*yv/max(yv))\n",
    "V[:,Nx] = 0 # (should be at infinity; here we assume the decay along x is fast enough)\n",
    "\n",
    "# relaxation method:\n",
    "# iteratively replace value at point by average of 4 neighbours\n",
    "\n",
    "Niter = 200\n",
    "Vlist = list() # collect all iterations\n",
    "# store the initial state (a copy, as V will change below)\n",
    "Vlist.append(V.copy())\n",
    "for it in range(1, Niter):\n",
    "    Vtmp = V\n",
    "    for ix in range(1, Nx):\n",
    "        for iy in range(1, Ny):\n",
    "            V[iy,ix] = 0.25*(Vlist[it-1][iy+1,ix] + Vlist[it-1][iy-1,ix] +\n",
    "                            Vlist[it-1][iy,ix+1] + Vlist[it-1][iy,ix-1])\n",
    "    Vlist.append(V.copy()) # store a copy of current iteration\n",
    "    \n",
    "# visualise initial state and last iteration\n",
    "fig = plt.figure()\n",
    "ax1 = fig.add_subplot(121)\n",
    "ax1.imshow(Vlist[0],interpolation='nearest', cmap=cm.Greys_r)\n",
    "ax2 = fig.add_subplot(122)\n",
    "ax2.imshow(Vlist[-1], interpolation='nearest', cmap=cm.Greys_r)\n",
    "plt.show()\n",
    "print(Vlist[0])"
   ]
  }
 ],
 "metadata": {
  "kernelspec": {
   "display_name": "Python 3",
   "language": "python",
   "name": "python3"
  },
  "language_info": {
   "codemirror_mode": {
    "name": "ipython",
    "version": 3
   },
   "file_extension": ".py",
   "mimetype": "text/x-python",
   "name": "python",
   "nbconvert_exporter": "python",
   "pygments_lexer": "ipython3",
   "version": "3.8.5"
  }
 },
 "nbformat": 4,
 "nbformat_minor": 4
}
