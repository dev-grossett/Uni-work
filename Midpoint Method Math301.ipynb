{
 "cells": [
  {
   "cell_type": "markdown",
   "metadata": {},
   "source": [
    "Midpoint method for Math301 test"
   ]
  },
  {
   "cell_type": "code",
   "execution_count": 3,
   "metadata": {},
   "outputs": [
    {
     "name": "stdout",
     "output_type": "stream",
     "text": [
      "[0.5        0.828      1.21136    1.6446592  2.12128422 2.63316675\n",
      " 3.17046344 3.7211654  4.27062178 4.80095857 5.29036946]\n"
     ]
    }
   ],
   "source": [
    "import numpy as np\n",
    "from numpy import sin, cos, sqrt, log\n",
    "\n",
    "a = 0         #set range we want the solution over\n",
    "b = 2\n",
    "h = 0.2       #step size \n",
    "\n",
    "N = (b-a)/h   #number of steps\n",
    "\n",
    "y = np.zeros(int(N+1))   #initialize solution array\n",
    "y[0] = 0.5               #enter initial value\n",
    "\n",
    "def dy(t, y): \n",
    "    return y - t**2 + 1   #define ode to solve\n",
    "\n",
    "for i in range(1, len(y)):\n",
    "    t = a + h*(i-1)\n",
    "    k1 = dy(t, y[i-1])\n",
    "    k2 = dy(t + h/2, y[i-1] + 0.5*h*k1)\n",
    "    y[i] = y[i-1] + h*k2                            #midpoint method\n",
    "\n",
    "print(y)\n"
   ]
  }
 ],
 "metadata": {
  "kernelspec": {
   "display_name": "Python 3",
   "language": "python",
   "name": "python3"
  },
  "language_info": {
   "codemirror_mode": {
    "name": "ipython",
    "version": 3
   },
   "file_extension": ".py",
   "mimetype": "text/x-python",
   "name": "python",
   "nbconvert_exporter": "python",
   "pygments_lexer": "ipython3",
   "version": "3.8.5"
  }
 },
 "nbformat": 4,
 "nbformat_minor": 4
}
