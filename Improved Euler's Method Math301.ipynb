{
 "cells": [
  {
   "cell_type": "markdown",
   "metadata": {},
   "source": [
    "Improved Euler's method for Math301 test"
   ]
  },
  {
   "cell_type": "code",
   "execution_count": 42,
   "metadata": {},
   "outputs": [
    {
     "name": "stdout",
     "output_type": "stream",
     "text": [
      "[1.   1.05 1.1  1.05 1.   1.05]\n"
     ]
    }
   ],
   "source": [
    "import numpy as np\n",
    "from numpy import sin, cos, sqrt, log, pi\n",
    "\n",
    "a = 0\n",
    "b = 0.5\n",
    "h = 0.1      #step size \n",
    "\n",
    "N = (b-a)/h   #number of steps\n",
    "\n",
    "y = np.zeros(int(N+1))   #initialize solution array\n",
    "y[0] = 1               #enter initial value\n",
    "\n",
    "def dy(t, y): \n",
    "    return sin(5*pi*t)     #define ode to solve\n",
    "\n",
    "for i in range(1, len(y)):\n",
    "    t = a + h*(i-1)\n",
    "    k1 = dy(t, y[i-1])\n",
    "    k2 = dy(t + h, y[i-1] + h*k1)\n",
    "    y[i] = y[i-1] + h*(k1/2 + k2/2)       #improved Euler's method\n",
    "\n",
    "print(y)"
   ]
  },
  {
   "cell_type": "code",
   "execution_count": null,
   "metadata": {},
   "outputs": [],
   "source": []
  }
 ],
 "metadata": {
  "kernelspec": {
   "display_name": "Python 3",
   "language": "python",
   "name": "python3"
  },
  "language_info": {
   "codemirror_mode": {
    "name": "ipython",
    "version": 3
   },
   "file_extension": ".py",
   "mimetype": "text/x-python",
   "name": "python",
   "nbconvert_exporter": "python",
   "pygments_lexer": "ipython3",
   "version": "3.8.5"
  }
 },
 "nbformat": 4,
 "nbformat_minor": 4
}
