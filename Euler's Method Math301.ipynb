{
 "cells": [
  {
   "cell_type": "markdown",
   "metadata": {},
   "source": [
    "Basic Euler's method for MATH301 test"
   ]
  },
  {
   "cell_type": "code",
   "execution_count": 43,
   "metadata": {},
   "outputs": [
    {
     "name": "stdout",
     "output_type": "stream",
     "text": [
      "[2.         2.75       3.55       4.39166667 5.26904762]\n"
     ]
    }
   ],
   "source": [
    "import numpy as np\n",
    "from numpy import sin, cos, sqrt, log\n",
    "\n",
    "a = 1         #set range we want the solution over\n",
    "b = 2\n",
    "h = 0.25       #step size \n",
    "\n",
    "N = (b-a)/h   #number of steps\n",
    "\n",
    "y = np.zeros(int(N+1))   #initialize solution array\n",
    "y[0] = 2               #enter initial value\n",
    "\n",
    "def dy(t, y):          #define ode we are solving\n",
    "    return 1 + y/t\n",
    "\n",
    "for i in range(1, len(y)): \n",
    "    y[i] = y[i-1] + h*dy((a + h*(i-1)), y[i-1])  #Euler's method\n",
    "\n",
    "print(y)\n",
    "\n",
    "# def soln(t):\n",
    "#     return (t*log(t) + 2*t)\n",
    "\n",
    "# y_real = np.zeros(int(N+1))\n",
    "# y_real[0] = 1\n",
    "\n",
    "# for i in range(1,len(y_real)):\n",
    "#     y_real[i] = soln(a + h*i)\n",
    "\n",
    "# print(y_real)\n",
    "\n",
    "# err = abs(y_real - y)\n",
    "# print(err)"
   ]
  }
 ],
 "metadata": {
  "kernelspec": {
   "display_name": "Python 3",
   "language": "python",
   "name": "python3"
  },
  "language_info": {
   "codemirror_mode": {
    "name": "ipython",
    "version": 3
   },
   "file_extension": ".py",
   "mimetype": "text/x-python",
   "name": "python",
   "nbconvert_exporter": "python",
   "pygments_lexer": "ipython3",
   "version": "3.8.5"
  }
 },
 "nbformat": 4,
 "nbformat_minor": 4
}
