{
 "cells": [
  {
   "cell_type": "markdown",
   "metadata": {},
   "source": [
    "Runge-Kutta 4th order method for Math301 test"
   ]
  },
  {
   "cell_type": "code",
   "execution_count": 12,
   "metadata": {},
   "outputs": [
    {
     "name": "stdout",
     "output_type": "stream",
     "text": [
      "[0.5        0.82929333 1.21407621 1.64892202 2.12720268 2.64082269\n",
      " 3.17989417 3.73234007 4.2834095  4.81508569 5.305363  ]\n"
     ]
    }
   ],
   "source": [
    "import numpy as np\n",
    "from numpy import sin, cos, sqrt, log\n",
    "\n",
    "a = 0         #set range we want the solution over\n",
    "b = 2\n",
    "h = 0.2       #step size \n",
    "\n",
    "N = (b-a)/h   #number of steps\n",
    "\n",
    "y = np.zeros(int(N+1))   #initialize solution array\n",
    "y[0] = 0.5               #enter initial value\n",
    "\n",
    "def dy(t, y): \n",
    "    return y - t**2 + 1   #define ode to solve\n",
    "\n",
    "\n",
    "for i in range(1, len(y)):\n",
    "    t = a + h*(i-1)\n",
    "    k1 = dy(t, y[i-1])\n",
    "    k2 = dy(t + h/2, y[i-1] + h*k1/2)\n",
    "    k3 = dy(t + h/2, y[i-1] + h*k2/2)\n",
    "    k4 = dy(t + h, y[i-1] + h*k3)\n",
    "    y[i] = y[i-1] + h*k1/6 + h*k2/3 + h*k3/3 + h*k4/6\n",
    "\n",
    "print(y)"
   ]
  }
 ],
 "metadata": {
  "kernelspec": {
   "display_name": "Python 3",
   "language": "python",
   "name": "python3"
  },
  "language_info": {
   "codemirror_mode": {
    "name": "ipython",
    "version": 3
   },
   "file_extension": ".py",
   "mimetype": "text/x-python",
   "name": "python",
   "nbconvert_exporter": "python",
   "pygments_lexer": "ipython3",
   "version": "3.8.5"
  }
 },
 "nbformat": 4,
 "nbformat_minor": 4
}
