{
 "cells": [
  {
   "cell_type": "code",
   "execution_count": 41,
   "metadata": {},
   "outputs": [],
   "source": [
    "import numpy as np\n",
    "import scipy as sp\n",
    "from scipy.integrate import quad \n",
    "import matplotlib.pyplot as plt\n",
    "import sympy as smp\n",
    "import plotly.graph_objects as go\n",
    "from IPython.display import HTML"
   ]
  },
  {
   "cell_type": "markdown",
   "metadata": {},
   "source": [
    "The electric field of any distribution os given by $$ \\vec{E} = \\frac{1}{4\\pi\\epsilon_0} \\int_V \\frac{\\vec{r}-\\vec{r'}}{|\\vec{r}-\\vec{r'}|^3} dq $$\n",
    "\n",
    "* One Dimension:\n",
    "\n",
    "$$ dq = \\lambda(\\vec{r}')|{d\\vec{r}'}| = \\lambda(\\vec{r}')\\left| \\frac{d\\vec{r}'}{dt}\\right|$$\n",
    "\n",
    "* Two Dimensions:\n",
    "\n",
    "$$ dq = \\sigma(\\vec{r}')|d\\vec{r}'| = \\sigma(\\vec{r}')\\left| \\frac{d\\vec{r}'}{du} \\times \\frac{d\\vec{r}'}{dv}\\right| du dv$$\n",
    "\n",
    "* Three Dimensions:\n",
    "\n",
    "$$ dq = \\rho(\\vec{r}') dx dy dz = \\rho(\\vec{r}')r^2 sin(\\theta)drd\\phi d\\theta = \\;...$$\n",
    "\n",
    "The challenge is solving for dq: once this is done we can easily solve the integral\n",
    "\n",
    "## Making the problem dimensionless\n",
    "\n",
    "$$ \\vec{E} = \\frac{1}{4\\pi\\epsilon_0} \\int_V \\frac{\\rho(\\vec{r}')(\\vec{r}-\\vec{r}')}{|\\vec{r}-\\vec{r}'|^3} dv' $$\n",
    "\n",
    "means that \n",
    "\n",
    "$$\\frac{4\\pi\\epsilon_0R^2}{Q}\\vec{E} = \\int_V \\frac{\\rho_d(\\vec{r_d}')(\\vec{r_d}-\\vec{r_d}')}{|\\vec{r_d}-\\vec{r_d}'|^3} dv'_d $$\n",
    "\n",
    "where $r_d$. $r'_d$, and $\\rho_d$ are all dimensionless. We can then set $R = Q = 1$ with no loss of generality, and rescale according to the problem to regain the electric field for various length and charge configurations\n",
    "\n",
    "\n",
    "### Example 1\n",
    "\n",
    "Spring of charge with radius $R=1$ is located at $\\vec{r}'(t) = \\left<\\cos(4t), \\sin(4t), t\\right>$ for $0 \\leq t \\leq 2\\pi$ with total charge $Q=1$ and charge evenly spread across. Plot electric field and charge\n",
    "\n",
    "Step 1: Find $dq$\n",
    "\n",
    "Since we are in 1 dimension\n",
    "$$dq = \\lambda(\\vec{r}')\\left|\\frac{d\\vec{r}'}{dt}\\right|dt$$\n",
    "\n",
    "but we still need $\\lambda(\\vec{r}')$. Using the fact that $Q = 1 = \\int dq = \\lambda \\int |d\\vec{r}'/dt| dt$ we get\n",
    "$$\\lambda = \\left[ \\int |d\\vec{r}'/dt| dt \\right]^{-1}$$\n"
   ]
  },
  {
   "cell_type": "code",
   "execution_count": 28,
   "metadata": {},
   "outputs": [],
   "source": [
    "t = smp.symbols('t', positive=True)\n",
    "x, y, z = smp.symbols('x y z')"
   ]
  },
  {
   "cell_type": "markdown",
   "metadata": {},
   "source": [
    "Define the test point $\\vec{r} = \\left< x, y, z \\right>$ and the location of the charge $\\vec{r}'$ which depends on the charge distribution."
   ]
  },
  {
   "cell_type": "code",
   "execution_count": 29,
   "metadata": {},
   "outputs": [],
   "source": [
    "r = smp.Matrix([x, y, z])\n",
    "r_p = smp.Matrix([smp.cos(4*t), smp.sin(4*t), t])\n",
    "sep = r - r_p"
   ]
  },
  {
   "cell_type": "markdown",
   "metadata": {},
   "source": [
    "To solve for $\\lambda = \\left[ \\int_{0}^{2\\pi}|dr'/dt|dt \\right]^{-1}$, we solve for $\\frac{dr'}{dt}$ and then integrate"
   ]
  },
  {
   "cell_type": "code",
   "execution_count": 30,
   "metadata": {},
   "outputs": [],
   "source": [
    "dr_pdt = smp.diff(r_p, t).norm().simplify()\n",
    "lam = smp.integrate(dr_pdt, (t, 0, 2*smp.pi))"
   ]
  },
  {
   "cell_type": "markdown",
   "metadata": {},
   "source": [
    "Now we define the integrand $\\frac{\\vec{r}-\\vec{r}'}{|\\vec{r}-\\vec{r}'|^3}\\lambda \\left|\\frac{d\\vec{r}'}{dt} \\right| $, which will eventually be integrated over all $t$"
   ]
  },
  {
   "cell_type": "code",
   "execution_count": 31,
   "metadata": {},
   "outputs": [
    {
     "data": {
      "text/latex": [
       "$\\displaystyle \\left[\\begin{matrix}\\frac{34 \\pi \\left(x - \\cos{\\left(4 t \\right)}\\right)}{\\left(\\left|{t - z}\\right|^{2} + \\left|{x - \\cos{\\left(4 t \\right)}}\\right|^{2} + \\left|{y - \\sin{\\left(4 t \\right)}}\\right|^{2}\\right)^{\\frac{3}{2}}}\\\\\\frac{34 \\pi \\left(y - \\sin{\\left(4 t \\right)}\\right)}{\\left(\\left|{t - z}\\right|^{2} + \\left|{x - \\cos{\\left(4 t \\right)}}\\right|^{2} + \\left|{y - \\sin{\\left(4 t \\right)}}\\right|^{2}\\right)^{\\frac{3}{2}}}\\\\\\frac{34 \\pi \\left(- t + z\\right)}{\\left(\\left|{t - z}\\right|^{2} + \\left|{x - \\cos{\\left(4 t \\right)}}\\right|^{2} + \\left|{y - \\sin{\\left(4 t \\right)}}\\right|^{2}\\right)^{\\frac{3}{2}}}\\end{matrix}\\right]$"
      ],
      "text/plain": [
       "Matrix([\n",
       "[34*pi*(x - cos(4*t))/(Abs(t - z)**2 + Abs(x - cos(4*t))**2 + Abs(y - sin(4*t))**2)**(3/2)],\n",
       "[34*pi*(y - sin(4*t))/(Abs(t - z)**2 + Abs(x - cos(4*t))**2 + Abs(y - sin(4*t))**2)**(3/2)],\n",
       "[      34*pi*(-t + z)/(Abs(t - z)**2 + Abs(x - cos(4*t))**2 + Abs(y - sin(4*t))**2)**(3/2)]])"
      ]
     },
     "execution_count": 31,
     "metadata": {},
     "output_type": "execute_result"
    }
   ],
   "source": [
    "integrand = lam*sep/sep.norm()**3 * dr_pdt\n",
    "integrand"
   ]
  },
  {
   "cell_type": "markdown",
   "metadata": {},
   "source": [
    "Convert the sympy symbolic expression into python numerical functions"
   ]
  },
  {
   "cell_type": "code",
   "execution_count": 32,
   "metadata": {},
   "outputs": [],
   "source": [
    "dExdt = smp.lambdify([t, x, y, z], integrand[0])\n",
    "dEydt = smp.lambdify([t, x, y, z], integrand[1])\n",
    "dEzdt = smp.lambdify([t, x, y, z], integrand[2])"
   ]
  },
  {
   "cell_type": "markdown",
   "metadata": {},
   "source": [
    "Function that integrates to find to the electric field"
   ]
  },
  {
   "cell_type": "code",
   "execution_count": 33,
   "metadata": {},
   "outputs": [],
   "source": [
    "def E(x, y, z):\n",
    "    return np.array([quad(dExdt, 0, 2*np.pi, args=(x, y, z))[0],\n",
    "                    quad(dEydt, 0, 2*np.pi, args=(x, y, z))[0],\n",
    "                    quad(dEzdt, 0, 2*np.pi, args=(x, y, z))[0]])\n"
   ]
  },
  {
   "cell_type": "markdown",
   "metadata": {},
   "source": [
    "Meshgrid of test points to try and find the electric field"
   ]
  },
  {
   "cell_type": "code",
   "execution_count": 34,
   "metadata": {},
   "outputs": [],
   "source": [
    "x = np.linspace(-2, 2, 10)\n",
    "y = np.linspace(-2, 2, 10)\n",
    "z = np.linspace(0, 2*np.pi, 10)\n",
    "xv, yv, zv = np.meshgrid(x, y, z)"
   ]
  },
  {
   "cell_type": "markdown",
   "metadata": {},
   "source": [
    "Compute electric field at all points in the meshgrid."
   ]
  },
  {
   "cell_type": "code",
   "execution_count": 35,
   "metadata": {},
   "outputs": [],
   "source": [
    "E_field = np.vectorize(E, signature='(),(),()->(n)')(xv, yv, zv)\n",
    "Ex = E_field[:,:,:,0]\n",
    "Ey = E_field[:,:,:,1]\n",
    "Ez = E_field[:,:,:,2]"
   ]
  },
  {
   "cell_type": "markdown",
   "metadata": {},
   "source": [
    "Look at the variation in the electric field over this meshgrid."
   ]
  },
  {
   "cell_type": "code",
   "execution_count": 36,
   "metadata": {},
   "outputs": [
    {
     "data": {
      "image/png": "[encoded data removed]",
      "text/plain": [
       "<Figure size 432x288 with 1 Axes>"
      ]
     },
     "metadata": {
      "needs_background": "light"
     },
     "output_type": "display_data"
    }
   ],
   "source": [
    "plt.hist(Ex.ravel(), bins=100, histtype='step',label='Ex')\n",
    "plt.hist(Ey.ravel(), bins=100, histtype='step',label='Ey')\n",
    "plt.hist(Ez.ravel(), bins=100, histtype='step',label='Ez')\n",
    "plt.legend()\n",
    "plt.xlabel('Electric Field Magnitude')\n",
    "plt.ylabel('Frequency')\n",
    "plt.show()"
   ]
  },
  {
   "cell_type": "markdown",
   "metadata": {},
   "source": [
    "Since we will be making a cone plot to represent the electric field, we don't want really large field values to produce really large cones and make a messy plot. As such, we make it so that the maximum electric field is 150."
   ]
  },
  {
   "cell_type": "code",
   "execution_count": 37,
   "metadata": {},
   "outputs": [],
   "source": [
    "E_max = 150\n",
    "Ex[Ex>E_max] = E_max\n",
    "Ey[Ey>E_max] = E_max\n",
    "Ez[Ez>E_max] = E_max\n",
    "\n",
    "Ex[Ex<-E_max] = -E_max\n",
    "Ey[Ey<-E_max] = -E_max\n",
    "Ez[Ez<-E_max] = -E_max"
   ]
  },
  {
   "cell_type": "markdown",
   "metadata": {},
   "source": [
    "\n",
    "\n",
    "Compute the line which will be used to plot the charge distribution in 3D.\n"
   ]
  },
  {
   "cell_type": "code",
   "execution_count": 38,
   "metadata": {},
   "outputs": [],
   "source": [
    "tt = np.linspace(0, 2*np.pi, 1000)\n",
    "lx, ly, lz = np.cos(4*tt), np.sin(4*tt), tt"
   ]
  },
  {
   "cell_type": "markdown",
   "metadata": {},
   "source": [
    "Make the plot"
   ]
  },
  {
   "cell_type": "code",
   "execution_count": 54,
   "metadata": {},
   "outputs": [],
   "source": [
    "data = go.Cone(x=xv.ravel(), y=yv.ravel(), z=zv.ravel(),\n",
    "               u=Ex.ravel(), v=Ey.ravel(), w=Ez.ravel(),\n",
    "               colorscale='Inferno', colorbar=dict(title='$x^2$'),\n",
    "               sizemode=\"scaled\", sizeref=0.5)\n",
    "\n",
    "layout = go.Layout(title=r'Plot Title',\n",
    "                     scene=dict(xaxis_title=r'x',\n",
    "                                yaxis_title=r'y',\n",
    "                                zaxis_title=r'z',\n",
    "                                aspectratio=dict(x=1, y=1, z=1),\n",
    "                                camera_eye=dict(x=1.2, y=1.2, z=1.2)))\n",
    "\n",
    "fig = go.Figure(data = data, layout=layout)\n",
    "fig.add_scatter3d(x=lx, y=ly, z=lz, mode='lines',\n",
    "                  line = dict(color='green', width=10))\n",
    "\n",
    "fig.write_html('Efield.html')"
   ]
  }
 ],
 "metadata": {
  "kernelspec": {
   "display_name": "Python 3",
   "language": "python",
   "name": "python3"
  },
  "language_info": {
   "codemirror_mode": {
    "name": "ipython",
    "version": 3
   },
   "file_extension": ".py",
   "mimetype": "text/x-python",
   "name": "python",
   "nbconvert_exporter": "python",
   "pygments_lexer": "ipython3",
   "version": "3.8.5"
  }
 },
 "nbformat": 4,
 "nbformat_minor": 4
}
