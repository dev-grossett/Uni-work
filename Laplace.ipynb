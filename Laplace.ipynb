{
 "cells": [
  {
   "cell_type": "code",
   "execution_count": 1,
   "metadata": {},
   "outputs": [],
   "source": [
    "import numpy as np\n",
    "import matplotlib.pyplot as plt\n",
    "from matplotlib import animation\n",
    "from mpl_toolkits.mplot3d import Axes3D\n",
    "from matplotlib.animation import PillowWriter\n",
    "from matplotlib import cm\n",
    "import numba\n",
    "from numba import jit"
   ]
  },
  {
   "cell_type": "markdown",
   "metadata": {},
   "source": [
    "Laplaces Equation:\n",
    "\n",
    "$$\\nabla^2 V=0$$\n",
    "\n",
    "everywhere in the square. We are in 2D, so this means\n",
    "\n",
    "$$\\frac{\\partial^2 V}{\\partial x^2}+\\frac{\\partial^2 V}{\\partial y^2}=0$$\n",
    "\n",
    "This equation can be discretely approximated as\n",
    "\n",
    "$$\\frac{V(x_{i+1}, y_j) - 2V(x_i, y_j) + V(x_{i-1}, y_j)}{(\\Delta x)^2} + \\frac{V(x_i, y_{j+1}) - 2V(x_i, y_j) + V(x_i, y_{j-1})}{(\\Delta y)^2} = 0 $$\n",
    "\n",
    "Noting that $ \\Delta x = \\Delta y$ in our array, we can solve for $V(x_i, y_j)$ yielding\n",
    "\n",
    "$$V(x_i, y_j) = \\frac{1}{4}(V(x_{i+1}, y_{j}) + V(x_{i-1}, y_{j}) + V(x_{i}, y_{j+1}) + V(x_{i}, y_{j-1}))$$\n",
    "\n",
    "So the idea is that if repeatedly set\n",
    "\n",
    "$$V(x_i, y_j) \\to \\frac{1}{4}(V(x_{i+1}, y_{j}) + V(x_{i-1}, y_{j}) + V(x_{i}, y_{j+1}) + V(x_{i}, y_{j-1}))$$\n",
    "\n",
    "$V$ will eventually converge to the true solution"
   ]
  },
  {
   "cell_type": "markdown",
   "metadata": {},
   "source": [
    "# Boundaries Only"
   ]
  },
  {
   "cell_type": "markdown",
   "metadata": {},
   "source": [
    "Define the boundary conditions"
   ]
  },
  {
   "cell_type": "code",
   "execution_count": 2,
   "metadata": {},
   "outputs": [],
   "source": [
    "xEdge = np.arange(0,50.1,.1)\n",
    "yEdge = np.arange(0,10.1,.1)\n",
    "upper_y = 0*xEdge\n",
    "lower_y = 0*xEdge\n",
    "upper_x = 0*yEdge\n",
    "lower_x = np.sin(3*np.pi*yEdge/10)\n"
   ]
  },
  {
   "cell_type": "markdown",
   "metadata": {},
   "source": [
    "Get a meshgrid"
   ]
  },
  {
   "cell_type": "code",
   "execution_count": 3,
   "metadata": {},
   "outputs": [
    {
     "data": {
      "text/plain": [
       "(101, 501)"
      ]
     },
     "execution_count": 3,
     "metadata": {},
     "output_type": "execute_result"
    }
   ],
   "source": [
    "xv, yv = np.meshgrid(xEdge, yEdge)\n",
    "np.shape(xv)"
   ]
  },
  {
   "cell_type": "markdown",
   "metadata": {},
   "source": [
    "Define function to solve for the potential"
   ]
  },
  {
   "cell_type": "code",
   "execution_count": 4,
   "metadata": {},
   "outputs": [],
   "source": [
    "@numba.jit(\"f8[:,:](f8[:,:], i8)\", nopython=True, nogil=True)\n",
    "def compute_potential(potential, n_iter):\n",
    "    lx = len(potential[0,:])\n",
    "    ly = len(potential[:,0])\n",
    "    for n in range(n_iter):\n",
    "        for i in range(1, lx-1):\n",
    "            for j in range(1, ly-1):\n",
    "                potential[j][i] = 1/4 * (potential[j+1][i] + potential[j-1][i] + potential[j][i+1] + potential[j][i-1])\n",
    "    return potential"
   ]
  },
  {
   "cell_type": "markdown",
   "metadata": {},
   "source": [
    "Solve for potential"
   ]
  },
  {
   "cell_type": "code",
   "execution_count": 5,
   "metadata": {},
   "outputs": [],
   "source": [
    "potential = np.random.rand(np.shape(xv)[0], np.shape(xv)[1])\n",
    "potential[0,:]= lower_y\n",
    "potential[-1,:]= upper_y\n",
    "potential[:,0]= lower_x\n",
    "potential[:,-1]= upper_x\n",
    "\n",
    "potential = compute_potential(potential, n_iter=10000)"
   ]
  },
  {
   "cell_type": "code",
   "execution_count": 6,
   "metadata": {},
   "outputs": [
    {
     "data": {
      "image/png": "[encoded data removed]",
      "text/plain": [
       "<Figure size 576x432 with 2 Axes>"
      ]
     },
     "metadata": {
      "needs_background": "light"
     },
     "output_type": "display_data"
    }
   ],
   "source": [
    "fig, ax = plt.subplots(1, 1, figsize=(8,6))\n",
    "clr_plot = ax.contourf(xv, yv, potential, 30)\n",
    "ax.set_xlabel('x')\n",
    "ax.set_ylabel('y')\n",
    "fig.colorbar(clr_plot, label='$V$')\n",
    "ax.set_title('Potential approximated by relaxation method')\n",
    "plt.show()"
   ]
  },
  {
   "cell_type": "markdown",
   "metadata": {},
   "source": [
    "# Exact Solution\n",
    "\n",
    "The exact solution to this BVP is given by:\n",
    "\n",
    "$$ V(x,y) = e^{-3\\pi x/10}sin\\left(\\frac{3\\pi}{10}y\\right) $$\n",
    "\n",
    "(We simplified the boundary condition at $x=50$ by instead requiring $V(x,y) \\rightarrow 0$ as $x \\rightarrow \\infty$)"
   ]
  },
  {
   "cell_type": "markdown",
   "metadata": {},
   "source": [
    "Defining our potential function"
   ]
  },
  {
   "cell_type": "code",
   "execution_count": 7,
   "metadata": {},
   "outputs": [],
   "source": [
    "def Z(x,y):\n",
    "    return np.exp(-3*np.pi*x/10)*np.sin(3*np.pi*y/10)\n"
   ]
  },
  {
   "cell_type": "markdown",
   "metadata": {},
   "source": [
    "Plotting for our region of interest"
   ]
  },
  {
   "cell_type": "code",
   "execution_count": 8,
   "metadata": {},
   "outputs": [
    {
     "data": {
      "image/png": "[encoded data removed]",
      "text/plain": [
       "<Figure size 576x432 with 2 Axes>"
      ]
     },
     "metadata": {
      "needs_background": "light"
     },
     "output_type": "display_data"
    }
   ],
   "source": [
    "V_true = Z(xv,yv)\n",
    "\n",
    "fig, ax = plt.subplots(1, 1, figsize=(8,6))\n",
    "clr_plot = ax.contourf(xv, yv, V_true, 30)\n",
    "ax.set_xlabel('x')\n",
    "ax.set_ylabel('y')\n",
    "fig.colorbar(clr_plot, label='$V$')\n",
    "ax.set_title('Exact solution')\n",
    "plt.show()"
   ]
  },
  {
   "cell_type": "markdown",
   "metadata": {},
   "source": [
    "# With a Block of Fixed Potential"
   ]
  },
  {
   "cell_type": "markdown",
   "metadata": {},
   "source": [
    "Define a block which is set at a constant potential of $V=1$, located at $20<x<22$, $4<y<6$"
   ]
  },
  {
   "cell_type": "code",
   "execution_count": 9,
   "metadata": {},
   "outputs": [],
   "source": [
    "def potential_block(x, y):\n",
    "    return np.select([(x>20)*(x<22)*(y>4)*(y<6),\n",
    "                      (x<=20)+(x>=22)+(y<=4)+(y>=6)],\n",
    "                     [1.,\n",
    "                      0])"
   ]
  },
  {
   "cell_type": "markdown",
   "metadata": {},
   "source": [
    "Show the location of the fixed potential"
   ]
  },
  {
   "cell_type": "code",
   "execution_count": 10,
   "metadata": {},
   "outputs": [
    {
     "data": {
      "text/plain": [
       "<matplotlib.colorbar.Colorbar at 0x1f153c5b610>"
      ]
     },
     "execution_count": 10,
     "metadata": {},
     "output_type": "execute_result"
    },
    {
     "data": {
      "image/png": "[encoded data removed]",
      "text/plain": [
       "<Figure size 432x288 with 2 Axes>"
      ]
     },
     "metadata": {
      "needs_background": "light"
     },
     "output_type": "display_data"
    }
   ],
   "source": [
    "plt.figure()\n",
    "plt.contourf(xv, yv, potential_block(xv,yv))\n",
    "plt.colorbar()"
   ]
  },
  {
   "cell_type": "markdown",
   "metadata": {},
   "source": [
    "Obtain the fixed potential, and the places where the potential is fixed"
   ]
  },
  {
   "cell_type": "code",
   "execution_count": 11,
   "metadata": {},
   "outputs": [],
   "source": [
    "fixed = potential_block(xv,yv)\n",
    "fixed_bool = fixed!=0"
   ]
  },
  {
   "cell_type": "markdown",
   "metadata": {},
   "source": [
    "Modify the compute potential function so it doesn't set the modify the points at the fixed potential during the relaxation procedure"
   ]
  },
  {
   "cell_type": "code",
   "execution_count": 12,
   "metadata": {},
   "outputs": [],
   "source": [
    "@numba.jit(\"f8[:,:](f8[:,:], b1[:,:], i8)\", nopython=True, nogil=True)\n",
    "def compute_potential(potential, fixed_bool, n_iter):\n",
    "    lx = len(potential[0,:])\n",
    "    ly = len(potential[:,0])\n",
    "    for n in range(n_iter):\n",
    "        for i in range(1, lx-1):\n",
    "            for j in range(1, ly-1):\n",
    "                if not(fixed_bool[j][i]):\n",
    "                    potential[j][i] = 1/4 * (potential[j+1][i] + potential[j-1][i] + potential[j][i+1] + potential[j][i-1])\n",
    "    return potential"
   ]
  },
  {
   "cell_type": "markdown",
   "metadata": {},
   "source": [
    "Solve for the potential"
   ]
  },
  {
   "cell_type": "code",
   "execution_count": 16,
   "metadata": {},
   "outputs": [],
   "source": [
    "potential = np.zeros(np.shape(xv))\n",
    "potential[0,:]= lower_y\n",
    "potential[-1,:]= upper_y\n",
    "potential[:,0]= lower_x\n",
    "potential[:,-1]= upper_x\n",
    "\n",
    "potential[fixed_bool] = fixed[fixed_bool]\n",
    "potential = compute_potential(potential, fixed_bool, n_iter=10000)"
   ]
  },
  {
   "cell_type": "markdown",
   "metadata": {},
   "source": [
    "Plot"
   ]
  },
  {
   "cell_type": "code",
   "execution_count": 17,
   "metadata": {},
   "outputs": [
    {
     "data": {
      "image/png": "[encoded data removed]",
      "text/plain": [
       "<Figure size 576x432 with 2 Axes>"
      ]
     },
     "metadata": {
      "needs_background": "light"
     },
     "output_type": "display_data"
    }
   ],
   "source": [
    "fig, ax = plt.subplots(1, 1, figsize=(8,6))\n",
    "clr_plot = ax.contourf(xv, yv, potential, 30)\n",
    "ax.set_xlabel('x')\n",
    "ax.set_ylabel('y')\n",
    "fig.colorbar(clr_plot, label='$V$')\n",
    "ax.set_title('Potential approximated by relaxation method')\n",
    "plt.show()"
   ]
  }
 ],
 "metadata": {
  "kernelspec": {
   "display_name": "Python 3",
   "language": "python",
   "name": "python3"
  },
  "language_info": {
   "codemirror_mode": {
    "name": "ipython",
    "version": 3
   },
   "file_extension": ".py",
   "mimetype": "text/x-python",
   "name": "python",
   "nbconvert_exporter": "python",
   "pygments_lexer": "ipython3",
   "version": "3.8.5"
  }
 },
 "nbformat": 4,
 "nbformat_minor": 4
}
